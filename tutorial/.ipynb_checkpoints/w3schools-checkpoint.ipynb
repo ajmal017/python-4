{
 "cells": [
  {
   "cell_type": "markdown",
   "metadata": {},
   "source": [
    "# Python Tutorial\n",
    "\n",
    "https://www.w3schools.com/python/default.asp\n",
    "\n",
    "## Variables\n",
    "\n",
    "If you use the `global` keyword, the variable belongs to the global scope:"
   ]
  },
  {
   "cell_type": "code",
   "execution_count": 2,
   "metadata": {},
   "outputs": [
    {
     "name": "stdout",
     "output_type": "stream",
     "text": [
      "Python is fantastic\n"
     ]
    }
   ],
   "source": [
    "x = \"awesome\"\n",
    "\n",
    "def myfunc():\n",
    "  global x\n",
    "  x = \"fantastic\"\n",
    "\n",
    "myfunc()\n",
    "\n",
    "print(\"Python is \" + x)"
   ]
  },
  {
   "cell_type": "markdown",
   "metadata": {},
   "source": [
    "## Data Types\n",
    "\n",
    "Python has the following data types built-in by default, in these categories:\n",
    "- Text Type: `str`\n",
    "- Numeric Types: `int`, `float`, `complex`\n",
    "- Sequence Types:\t`list`, `tuple`, `range`\n",
    "- Mapping Type: `dict`\n",
    "- Set Types: `set`, `frozenset`\n",
    "- Boolean Type: `bool`\n",
    "- Binary Types: `bytes`, `bytearray`, `memoryview`\n",
    "\n"
   ]
  }
 ],
 "metadata": {
  "kernelspec": {
   "display_name": "Python 3",
   "language": "python",
   "name": "python3"
  },
  "language_info": {
   "codemirror_mode": {
    "name": "ipython",
    "version": 3
   },
   "file_extension": ".py",
   "mimetype": "text/x-python",
   "name": "python",
   "nbconvert_exporter": "python",
   "pygments_lexer": "ipython3",
   "version": "3.7.3"
  }
 },
 "nbformat": 4,
 "nbformat_minor": 2
}
